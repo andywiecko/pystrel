{
 "cells": [
  {
   "cell_type": "markdown",
   "metadata": {},
   "source": [
    "# Example 03  – $t$-$V$ model\n",
    "\n",
    "In this example, we will study the dynamics of a system described by the t-V model, which is governed by the following Hamiltonian\n",
    "\n",
    "$$\n",
    "H = \\underbrace{t\\sum_i \\left(e^{i\\phi(t)}a_i^\\dagger a_{i+1} + \\text{h.c.}\\right)}_{H_k} + V\\sum_i n_i n_{i+1}, \n",
    "$$\n",
    "\n",
    "Here, the Peierls phase is given by\n",
    "\n",
    "$$\n",
    "\\phi(t) = -F \\, t.\n",
    "$$\n",
    "\n",
    "The t-V model allows us to define a particle current operator, which can be derived using the continuity equation $\\dot\\rho + \\text{div}\\, j = 0$ and the Heisenberg picture. \n",
    "The expression for the current operator is as follows\n",
    "\n",
    "$$\n",
    "j_t = t\\sum_i \\left(i e^{i\\phi(t)}a_i^\\dagger a_{i+1} + \\text{h.c.}\\right).\n",
    "$$\n",
    "\n",
    "In the special case when $V=0$, the system has an analytical solution, and it can be shown that the relationship between the kinetic energy $\\langle H_k\\rangle$ and the current $\\langle j_t \\rangle$ is given by\n",
    "\n",
    "$$\n",
    "\\begin{cases}\n",
    "\\langle j_t(t)\\rangle \\propto \\sin(\\frac 1F t)\\\\\n",
    "\\langle H_k(t)\\rangle \\propto \\cos(\\frac 1F t)\n",
    "\\end{cases}\n",
    "$$\n",
    "\n",
    "This result provides valuable insight into the behavior of the t-V model when the interaction term $V$ is absent. It demonstrates how the kinetic energy and current in the system oscillate periodically with time, governed by the parameter $F$."
   ]
  },
  {
   "cell_type": "code",
   "execution_count": 1,
   "metadata": {},
   "outputs": [],
   "source": [
    "import time as sys_time\n",
    "import pystrel as ps\n",
    "import numpy as np\n",
    "import matplotlib.pyplot as plt\n",
    "from datetime import timedelta\n",
    "from IPython.display import clear_output"
   ]
  },
  {
   "cell_type": "markdown",
   "metadata": {},
   "source": [
    "In this tutorial, we have prepared a function called `simulate(**kwargs)` that implements all the necessary configurations and features required to study the quantum dynamics of the $t$-$V$ model.\n",
    "Please note that often there are custom operators, which are not necessary universal, however, using `pystrel` one can define these through a separate model by using `build_hamiltonian` method. \n",
    "\n",
    "In this example we instantiate three models: \n",
    "\n",
    "- `model` for construction the Hamiltonian,\n",
    "- `kinetic` for construction the kinetic part of the Hamiltonian,\n",
    "- `current` for construction the particle current operator for the system.\n",
    "\n",
    "Once the system is configured, we find the ground state:\n",
    "\n",
    "```\n",
    "psi = initial_state()\n",
    "```\n",
    "\n",
    "We then use this ground state as the initial state for propagation:\n",
    "\n",
    "```\n",
    "result = propagate(psi)\n",
    "```\n",
    "\n",
    "During the propagation, the user will also observe the current status of the simulation, displayed in the following format:\n",
    "\n",
    "```\n",
    "72.0% (elapsed time: 0:05:14.448733, remaining time: 0:02:02.285618)\n",
    "```\n",
    "\n",
    "Finally, the method will return the `result` as an `np.array` with columns representing time, $\\langle H_k\\rangle$, and $\\langle j_t\\rangle$, respectively.\n",
    "\n",
    "> **Example**\n",
    "> The following command will run the simulation for a system with $L=10$, $V=1$, and end time $T=5$. To see all supported `kwargs``, you can refer to about first 10 lines of the method implementation:\n",
    ">\n",
    "> ```\n",
    "> result = simulate(L=10, V=1.0, T=5.0)\n",
    "> ```"
   ]
  },
  {
   "cell_type": "code",
   "execution_count": 2,
   "metadata": {},
   "outputs": [],
   "source": [
    "def simulate(**kwargs):\n",
    "    start_time = sys_time.time()\n",
    "    L = kwargs.get(\"L\", 4)\n",
    "    V = kwargs.get(\"V\", 0.0)\n",
    "    t = kwargs.get(\"t\", 1.0)\n",
    "    F = kwargs.get(\"F\", 1.0)\n",
    "    dt = kwargs.get(\"dt\", 0.01)\n",
    "    T = kwargs.get(\"T\", 15.0)\n",
    "    method = kwargs.get(\"methods\", \"cheb\")\n",
    "    sparsity = kwargs.get(\"sparsity\", \"sparse\")\n",
    "    dtype = np.complex128\n",
    "\n",
    "    phi = lambda time: -F * time\n",
    "    t_integral = lambda time: { (i, (i + 1) % L): np.exp(1.0j * phi(time)) * t for i in range(L) }\n",
    "    jt = lambda time: {id: 1.0j * v for (id, v) in t_integral(time).items()}\n",
    "\n",
    "    model = ps.Model({\n",
    "        \"sites\": L,\n",
    "        \"terms\": {\n",
    "            \"t\": t_integral(0.0),\n",
    "            \"V\": {(i, (i + 1) % L): V for i in range(L)},\n",
    "        }\n",
    "    })\n",
    "    kinetic = ps.Model({\"sites\": L, \"terms\": {\"t\": t_integral(0.0)}})\n",
    "    current = ps.Model({\"sites\": L, \"terms\": {\"t\": jt(0.0)}})\n",
    "\n",
    "    def initial_state():\n",
    "        h = model.build_hamiltonian(sparsity=sparsity, dtype=np.complex128)\n",
    "        _, v = ps.spectrum.get_partial_spectrum(h, k=4)\n",
    "        return v[0]\n",
    "\n",
    "    def build_hamiltonian(time):\n",
    "        model.update_terms({\"t\": t_integral(time)})\n",
    "        return model.build_hamiltonian(sparsity=sparsity, dtype=dtype)\n",
    "\n",
    "    def build_kinetic(time):\n",
    "        kinetic.update_terms({\"t\": t_integral(time)})\n",
    "        return kinetic.build_hamiltonian(sparsity=sparsity, dtype=dtype)\n",
    "\n",
    "    def build_current(time):\n",
    "        current.update_terms({\"t\": jt(time)})\n",
    "        return current.build_hamiltonian(sparsity=sparsity, dtype=dtype)\n",
    "\n",
    "    def measure_time(time, clear_time):\n",
    "        current_sys_time = sys_time.time()\n",
    "        if current_sys_time - clear_time > 0.5:\n",
    "            clear_output(wait=True)\n",
    "            prct = np.round(time / T * 100, 2)\n",
    "            elapsed_time = timedelta(seconds=sys_time.time() - start_time)\n",
    "            remaining_time = (100 - prct) / (prct+1e-9) * elapsed_time\n",
    "            print(f\"{prct}% (elapsed time: {elapsed_time}, remaining time: {remaining_time})\")\n",
    "            clear_time = current_sys_time\n",
    "        return clear_time\n",
    "\n",
    "    def propagate(psi):\n",
    "        times, energies, currents = [], [], []\n",
    "        time = 0\n",
    "        clear_time = 0.0\n",
    "        while time <= T:\n",
    "            psi = ps.propagate(psi, build_hamiltonian, t0=time, dt=dt, method=method)\n",
    "            energies.append(ps.measure(build_kinetic(time), psi).real)\n",
    "            currents.append(ps.measure(build_current(time), psi).real)\n",
    "            times.append(time)\n",
    "\n",
    "            clear_time = measure_time(time, clear_time)\n",
    "\n",
    "            time += dt\n",
    "        return np.array([times, energies, currents])\n",
    "\n",
    "    psi = initial_state()\n",
    "    result = propagate(psi)\n",
    "    return result"
   ]
  },
  {
   "cell_type": "code",
   "execution_count": 3,
   "metadata": {},
   "outputs": [
    {
     "name": "stdout",
     "output_type": "stream",
     "text": [
      "100.0% (elapsed time: 0:07:10.640176, remaining time: 0:00:00)\n"
     ]
    }
   ],
   "source": [
    "result_free = simulate(L=10, V=0.0)"
   ]
  },
  {
   "cell_type": "code",
   "execution_count": 4,
   "metadata": {},
   "outputs": [
    {
     "name": "stdout",
     "output_type": "stream",
     "text": [
      "99.93% (elapsed time: 0:07:12.970169, remaining time: 0:00:00.303291)\n"
     ]
    }
   ],
   "source": [
    "result_int = simulate(L=10, V=1.0)"
   ]
  },
  {
   "cell_type": "markdown",
   "metadata": {},
   "source": [
    "As a result, in the parametric plot of ($\\langle H_k\\rangle$, $\\langle j_t \\rangle$), one can observe a perfect circle for the case of non-interacting fermions ($V=0$), and a spiral for interacting particles ($V=1$)."
   ]
  },
  {
   "cell_type": "code",
   "execution_count": 5,
   "metadata": {},
   "outputs": [
    {
     "data": {
      "image/png": "[encoded data removed]",
      "text/plain": [
       "<Figure size 640x480 with 1 Axes>"
      ]
     },
     "metadata": {},
     "output_type": "display_data"
    }
   ],
   "source": [
    "plt.gca().set_aspect(\"equal\")\n",
    "plt.xlim(-1, 1)\n",
    "plt.ylim(-1, 1)\n",
    "plt.xlabel(r\"$\\langle H_k\\rangle / L$\")\n",
    "plt.ylabel(r\"$\\langle j_t\\rangle / L$\")\n",
    "plt.plot(result_free[1] / 10, result_free[2] / 10, label='$V=0$')\n",
    "plt.plot(result_int[1] / 10, result_int[2] / 10, label='$V=1$')\n",
    "plt.legend()\n",
    "plt.show()"
   ]
  }
 ],
 "metadata": {
  "kernelspec": {
   "display_name": "Python 3",
   "language": "python",
   "name": "python3"
  },
  "language_info": {
   "codemirror_mode": {
    "name": "ipython",
    "version": 3
   },
   "file_extension": ".py",
   "mimetype": "text/x-python",
   "name": "python",
   "nbconvert_exporter": "python",
   "pygments_lexer": "ipython3",
   "version": "3.11.3"
  },
  "orig_nbformat": 4
 },
 "nbformat": 4,
 "nbformat_minor": 2
}
